{
 "cells": [
  {
   "cell_type": "markdown",
   "metadata": {},
   "source": [
    "Q1. Lambda & Map"
   ]
  },
  {
   "cell_type": "code",
   "execution_count": 2,
   "metadata": {},
   "outputs": [
    {
     "name": "stdout",
     "output_type": "stream",
     "text": [
      "輸入一個數3\n"
     ]
    },
    {
     "data": {
      "text/plain": [
       "[103]"
      ]
     },
     "execution_count": 2,
     "metadata": {},
     "output_type": "execute_result"
    }
   ],
   "source": [
    "a=input('輸入一個數')\n",
    "num=[int(a)]\n",
    "list(map(lambda y:y+100,num))"
   ]
  },
  {
   "cell_type": "markdown",
   "metadata": {},
   "source": [
    "Q2. 裝飾器(Decorator)"
   ]
  },
  {
   "cell_type": "code",
   "execution_count": 8,
   "metadata": {},
   "outputs": [
    {
     "name": "stdout",
     "output_type": "stream",
     "text": [
      "multiply: 20\n"
     ]
    }
   ],
   "source": [
    "def document(func):\n",
    "    def func(a,s):\n",
    "        m=a*s\n",
    "        print('multiply:',m)\n",
    "    return func\n",
    "\n",
    "@document\n",
    "def add(a,s):\n",
    "    return a+s\n",
    "\n",
    "add(10,2)"
   ]
  },
  {
   "cell_type": "markdown",
   "metadata": {},
   "source": [
    "Q3.例外處理"
   ]
  },
  {
   "cell_type": "code",
   "execution_count": 5,
   "metadata": {},
   "outputs": [
    {
     "name": "stdout",
     "output_type": "stream",
     "text": [
      "請輸入一個整數a\n",
      "出錯,請重新輸入\n"
     ]
    }
   ],
   "source": [
    "a=input('請輸入一個整數')\n",
    "try:\n",
    "    print(int(a))\n",
    "except:\n",
    "    print('出錯,請重新輸入')"
   ]
  },
  {
   "cell_type": "markdown",
   "metadata": {},
   "source": [
    "Ｑ4.計算機程式"
   ]
  },
  {
   "cell_type": "code",
   "execution_count": 3,
   "metadata": {},
   "outputs": [
    {
     "name": "stdout",
     "output_type": "stream",
     "text": [
      "請輸入第一個數字100\n",
      "請輸入第二個數字5\n",
      "請輸入運算值/\n",
      "20.0\n"
     ]
    }
   ],
   "source": [
    "from source import calculator\n",
    "\n",
    "input1=int(input('請輸入第一個數字'))\n",
    "input2=int(input('請輸入第二個數字'))\n",
    "f=input('請輸入運算值')\n",
    "\n",
    "print(calculator.answer(input1,input2,f))"
   ]
  },
  {
   "cell_type": "code",
   "execution_count": null,
   "metadata": {},
   "outputs": [],
   "source": []
  }
 ],
 "metadata": {
  "kernelspec": {
   "display_name": "Python 3",
   "language": "python",
   "name": "python3"
  },
  "language_info": {
   "codemirror_mode": {
    "name": "ipython",
    "version": 3
   },
   "file_extension": ".py",
   "mimetype": "text/x-python",
   "name": "python",
   "nbconvert_exporter": "python",
   "pygments_lexer": "ipython3",
   "version": "3.6.4"
  }
 },
 "nbformat": 4,
 "nbformat_minor": 2
}
